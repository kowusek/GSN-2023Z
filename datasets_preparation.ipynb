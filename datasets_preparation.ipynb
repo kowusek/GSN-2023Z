{
 "cells": [
  {
   "cell_type": "markdown",
   "metadata": {},
   "source": [
    "# Prepare datasets"
   ]
  },
  {
   "cell_type": "code",
   "execution_count": null,
   "metadata": {},
   "outputs": [],
   "source": [
    "%%bash\n",
    "sudo apt install unzip\n",
    "pip install gdown\n",
    "mkdir -p datasets/test\n",
    "\n",
    "pip install opencv-python\n",
    "apt update && apt install -y libsm6 libxext6\n",
    "apt-get install -y libxrender-dev\n",
    "apt-get update && apt-get install libgl1 -y"
   ]
  },
  {
   "cell_type": "code",
   "execution_count": null,
   "metadata": {},
   "outputs": [],
   "source": [
    "import gdown\n",
    "import os\n",
    "import cv2 as cv\n",
    "import numpy as np\n",
    "import shutil"
   ]
  },
  {
   "cell_type": "code",
   "execution_count": null,
   "metadata": {},
   "outputs": [],
   "source": [
    "CROP_IMG_SIZE = 100\n",
    "CROP_IMG_STEP = 100"
   ]
  },
  {
   "cell_type": "code",
   "execution_count": null,
   "metadata": {},
   "outputs": [],
   "source": [
    "def divide_folder_by_suffix(input_folder, output_hr_folder, output_lr_folder):\n",
    "    os.makedirs(output_hr_folder, exist_ok=True)\n",
    "    os.makedirs(output_lr_folder, exist_ok=True)\n",
    "    files = os.listdir(input_folder)\n",
    "\n",
    "    for file_name in files:\n",
    "        if file_name.lower().endswith(\".png\"):\n",
    "            if file_name.endswith(\"_HR.png\"):\n",
    "                output_folder = output_hr_folder\n",
    "            elif file_name.endswith(\"_LR.png\"):\n",
    "                output_folder = output_lr_folder\n",
    "            else:\n",
    "                print(f\"Ignoring file {file_name} as it does not end with '_HR' or '_LR'\")\n",
    "                continue\n",
    "\n",
    "            source_path = os.path.join(input_folder, file_name)\n",
    "            destination_path = os.path.join(output_folder, file_name)\n",
    "\n",
    "            shutil.move(source_path, destination_path)\n",
    "            print(f\"Moved {file_name} to {output_folder}\")"
   ]
  },
  {
   "cell_type": "code",
   "execution_count": null,
   "metadata": {},
   "outputs": [],
   "source": [
    "def crop_and_save_images(dataset_folder, out_directory, CROP_IMG_SIZE, CROP_IMG_STEP):\n",
    "    directory_list = os.listdir(dataset_folder)\n",
    "\n",
    "    if not os.path.exists(out_directory):\n",
    "        os.makedirs(out_directory)\n",
    "        \n",
    "    for source_file in directory_list:\n",
    "        source_path = os.path.join(dataset_folder, source_file)\n",
    "        if os.path.isfile(source_path):\n",
    "            img = cv.imread(source_path)\n",
    "\n",
    "            h, w = img.shape[0:2]\n",
    "            h_space = np.arange(0, h - CROP_IMG_SIZE + 1, CROP_IMG_STEP)\n",
    "            w_space = np.arange(0, w - CROP_IMG_SIZE + 1, CROP_IMG_STEP)\n",
    "            if h - (h_space[-1] + CROP_IMG_SIZE) > 0:\n",
    "                h_space = np.append(h_space, h - CROP_IMG_SIZE)\n",
    "            if w - (w_space[-1] + CROP_IMG_SIZE) > 0:\n",
    "                w_space = np.append(w_space, w - CROP_IMG_SIZE)\n",
    "\n",
    "            file_name = os.path.basename(source_path)\n",
    "            file_name, extension = os.path.splitext(file_name)\n",
    "\n",
    "            index = 0\n",
    "            for x in h_space:\n",
    "                for y in w_space:\n",
    "                    index += 1\n",
    "                    cropped_img = img[x:x + CROP_IMG_SIZE, y:y + CROP_IMG_SIZE, ...]\n",
    "                    cropped_img = np.ascontiguousarray(cropped_img)\n",
    "                    cv.imwrite(\n",
    "                        os.path.join(out_directory, f'{file_name}_s{index:03d}{extension}'), cropped_img)"
   ]
  },
  {
   "cell_type": "code",
   "execution_count": null,
   "metadata": {},
   "outputs": [],
   "source": [
    "# Test datasets\n",
    "gdown.download(f\"https://drive.google.com/uc?id=1NpwjUZJFIXVd426BNZh_idfOuPcK5RqW\")"
   ]
  },
  {
   "cell_type": "code",
   "execution_count": null,
   "metadata": {},
   "outputs": [],
   "source": [
    "%%bash\n",
    "mv TestDatsets.zip datasets/test\n",
    "\n",
    "unzip -n datasets/test/TestDatsets.zip -d datasets/test\n",
    "unzip -n datasets/test/BSD100.zip -d datasets/test\n",
    "unzip -n datasets/test/Set5.zip -d datasets/test\n",
    "unzip -n datasets/test/Set14.zip -d datasets/test\n",
    "unzip -n datasets/test/Urban100.zip -d datasets/test\n",
    "\n",
    "rm datasets/test/TestDatsets.zip\n",
    "rm datasets/test/BSD100.zip\n",
    "rm datasets/test/Set5.zip\n",
    "rm datasets/test/Set14.zip\n",
    "rm datasets/test/Urban100.zip"
   ]
  },
  {
   "cell_type": "code",
   "execution_count": null,
   "metadata": {},
   "outputs": [],
   "source": [
    "# List of datasets\n",
    "datasets = ['BSD100', 'Urban100', 'Set5', 'Set14']\n",
    "\n",
    "# Base folder\n",
    "base_folder = '/gsn/datasets/test/'\n",
    "\n",
    "for dataset in datasets:\n",
    "    input_folder = os.path.join(base_folder, dataset)\n",
    "\n",
    "    all_folders = [d for d in os.listdir(input_folder) if os.path.isdir(os.path.join(input_folder, d))]\n",
    "    print(f\"Folders in {dataset}: {all_folders}\")\n",
    "\n",
    "    for folder_name in all_folders:\n",
    "        sub_input_folder = os.path.join(input_folder, folder_name)\n",
    "        sub_output_hr_folder = os.path.join(sub_input_folder, 'HR')\n",
    "        sub_output_lr_folder = os.path.join(sub_input_folder, 'LR')\n",
    "\n",
    "        divide_folder_by_suffix(sub_input_folder, sub_output_hr_folder, sub_output_lr_folder)"
   ]
  },
  {
   "cell_type": "code",
   "execution_count": null,
   "metadata": {},
   "outputs": [],
   "source": [
    "crop_and_save_images('/gsn/datasets/test/Set14/image_SRF_4/HR', '/gsn/datasets/test/Set14/image_SRF_4/HR_crop', CROP_IMG_SIZE, CROP_IMG_STEP)"
   ]
  },
  {
   "cell_type": "code",
   "execution_count": null,
   "metadata": {},
   "outputs": [],
   "source": [
    "crop_and_save_images('/gsn/datasets/test/Set14/image_SRF_4/HR', '/gsn/datasets/test/Set14/image_SRF_4/HR_crop', CROP_IMG_SIZE, CROP_IMG_STEP)\n",
    "crop_and_save_images('/gsn/datasets/test/BSD100/image_SRF_4/HR', '/gsn/datasets/test/BSD100/image_SRF_4/HR_crop', CROP_IMG_SIZE, CROP_IMG_STEP)\n",
    "crop_and_save_images('/gsn/datasets/test/Urban100/image_SRF_4/HR', '/gsn/datasets/test/Urban100/image_SRF_4/HR_crop', CROP_IMG_SIZE, CROP_IMG_STEP)"
   ]
  },
  {
   "cell_type": "code",
   "execution_count": null,
   "metadata": {},
   "outputs": [],
   "source": [
    "# DIV2k\n",
    "#gdown.download(f\"https://drive.google.com/uc?id=1Ub5ArNnQk3Wzy_mpVI5JJPxzAOc72Dkw\")"
   ]
  },
  {
   "cell_type": "code",
   "execution_count": null,
   "metadata": {},
   "outputs": [],
   "source": [
    "#%%bash\n",
    "#mv DIV2K.zip datasets/train/DIV2K/temp"
   ]
  },
  {
   "cell_type": "code",
   "execution_count": null,
   "metadata": {},
   "outputs": [],
   "source": [
    "#%%bash\n",
    "#unzip -n datasets/train/DIV2K/temp/DIV2K.zip -d datasets/train/\n",
    "#rm -r datasets/train/DIV2K/temp"
   ]
  },
  {
   "cell_type": "code",
   "execution_count": null,
   "metadata": {},
   "outputs": [],
   "source": [
    "# COCO25K\n",
    "gdown.download(f\"https://drive.google.com/uc?id=1pimBZHavLQMgpXWiXucUaBhyZe8L04Ef\")"
   ]
  },
  {
   "cell_type": "code",
   "execution_count": null,
   "metadata": {},
   "outputs": [],
   "source": [
    "#%%bash\n",
    "unzip -n /gsn/COCO25K.zip -d /gsn/datasets/"
   ]
  },
  {
   "cell_type": "code",
   "execution_count": null,
   "metadata": {},
   "outputs": [],
   "source": [
    "#%%bash\n",
    "rm /gsn/COCO25K.zip"
   ]
  },
  {
   "cell_type": "code",
   "execution_count": null,
   "metadata": {},
   "outputs": [],
   "source": [
    "crop_and_save_images('/gsn/datasets/COCO25K/train', '/gsn/datasets/COCO25K/train_crop', CROP_IMG_SIZE, CROP_IMG_STEP)"
   ]
  },
  {
   "cell_type": "code",
   "execution_count": null,
   "metadata": {},
   "outputs": [],
   "source": [
    "crop_and_save_images('/gsn/datasets/COCO25K/val', '/gsn/datasets/COCO25K/val_crop', CROP_IMG_SIZE, CROP_IMG_STEP)"
   ]
  },
  {
   "cell_type": "code",
   "execution_count": null,
   "metadata": {},
   "outputs": [],
   "source": []
  }
 ],
 "metadata": {
  "kernelspec": {
   "display_name": "Python 3 (ipykernel)",
   "language": "python",
   "name": "python3"
  },
  "language_info": {
   "codemirror_mode": {
    "name": "ipython",
    "version": 3
   },
   "file_extension": ".py",
   "mimetype": "text/x-python",
   "name": "python",
   "nbconvert_exporter": "python",
   "pygments_lexer": "ipython3",
   "version": "3.10.11"
  }
 },
 "nbformat": 4,
 "nbformat_minor": 4
}

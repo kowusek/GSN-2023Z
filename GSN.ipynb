{
  "nbformat": 4,
  "nbformat_minor": 0,
  "metadata": {
    "colab": {
      "provenance": []
    },
    "kernelspec": {
      "name": "python3",
      "display_name": "Python 3"
    },
    "language_info": {
      "name": "python"
    }
  },
  "cells": [
    {
      "cell_type": "code",
      "execution_count": null,
      "metadata": {
        "id": "4DHcpFtMwKFq",
        "colab": {
          "base_uri": "https://localhost:8080/"
        },
        "outputId": "7d6008ec-b9b8-45cd-ab3e-eeb3fc03cef1"
      },
      "outputs": [
        {
          "output_type": "stream",
          "name": "stdout",
          "text": [
            "Mounted at /content/gdrive/\n"
          ]
        }
      ],
      "source": [
        "from google.colab import drive as gdrive\n",
        "groot = '/content/gdrive/'\n",
        "gdrive.mount(groot, force_remount=True)"
      ]
    },
    {
      "cell_type": "code",
      "source": [
        "%cd 'gdrive/MyDrive/GSN/'"
      ],
      "metadata": {
        "colab": {
          "base_uri": "https://localhost:8080/"
        },
        "id": "FB9LP_0A44XD",
        "outputId": "15659416-553b-4d02-e8b6-5c7dee19eda7"
      },
      "execution_count": null,
      "outputs": [
        {
          "output_type": "stream",
          "name": "stdout",
          "text": [
            "/content/gdrive/MyDrive/GSN\n"
          ]
        }
      ]
    },
    {
      "cell_type": "code",
      "source": [
        "!apt install subversion\n",
        "!svn checkout https://github.com/kowusek/GSN-2023Z/trunk/datasets"
      ],
      "metadata": {
        "colab": {
          "base_uri": "https://localhost:8080/"
        },
        "id": "Y6wF8Ztz0cuO",
        "outputId": "c4f53531-c314-4a2f-e62f-51eb75f06133"
      },
      "execution_count": null,
      "outputs": [
        {
          "output_type": "stream",
          "name": "stdout",
          "text": [
            "Reading package lists... Done\n",
            "Building dependency tree... Done\n",
            "Reading state information... Done\n",
            "subversion is already the newest version (1.14.1-3ubuntu0.22.04.1).\n",
            "0 upgraded, 0 newly installed, 0 to remove and 11 not upgraded.\n",
            "Checked out revision 3.\n"
          ]
        }
      ]
    },
    {
      "cell_type": "code",
      "source": [
        "# croppped image size\n",
        "CROP_IMG_WIDTH, CROP_IMG_HEIGHT = 100, 100\n",
        "\n",
        "# training hyperparameters\n",
        "INIT_LR = 1e-3\n",
        "BATCH_SIZE = 64\n",
        "EPOCHS = 10\n",
        "\n",
        "# train and val splits\n",
        "TRAIN_SPLIT = 0.8\n",
        "VAL_SPLIT = 1 - TRAIN_SPLIT"
      ],
      "metadata": {
        "id": "tKRfNiuP1NuR"
      },
      "execution_count": null,
      "outputs": []
    },
    {
      "cell_type": "code",
      "source": [
        "from torch.utils.data import random_split\n",
        "from torch.utils.data import DataLoader\n",
        "from torchvision.transforms import ToTensor\n",
        "from torch.optim import Adam\n",
        "from torch import nn\n",
        "import matplotlib.pyplot as plt\n",
        "import numpy as np\n",
        "import argparse\n",
        "import torch\n",
        "import time\n",
        "import cv2"
      ],
      "metadata": {
        "id": "0rhmoalq2ImV"
      },
      "execution_count": null,
      "outputs": []
    },
    {
      "cell_type": "code",
      "source": [],
      "metadata": {
        "id": "s42NFecu2Ons"
      },
      "execution_count": null,
      "outputs": []
    }
  ]
}